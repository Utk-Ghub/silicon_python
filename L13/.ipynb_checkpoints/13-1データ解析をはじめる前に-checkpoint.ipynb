{
 "cells": [
  {
   "cell_type": "markdown",
   "id": "63a6890b-0d41-42ea-99a1-a3b632946187",
   "metadata": {},
   "source": [
    "# Jupyter Notebookを使ってみよう"
   ]
  },
  {
   "cell_type": "markdown",
   "id": "c1ca20cb-1ce7-44d2-ba6c-a705ba2ab2ba",
   "metadata": {},
   "source": [
    "## コードを書いて実行する"
   ]
  },
  {
   "cell_type": "code",
   "execution_count": null,
   "id": "021a6b72-5adb-4e3c-a0f0-39f6efa0ccc2",
   "metadata": {},
   "outputs": [],
   "source": [
    "x = 10"
   ]
  },
  {
   "cell_type": "code",
   "execution_count": null,
   "id": "1d29e4e7-2d87-4ed2-b811-159fcd173b8b",
   "metadata": {},
   "outputs": [],
   "source": [
    "x"
   ]
  },
  {
   "cell_type": "code",
   "execution_count": null,
   "id": "f89ad071-7168-449a-88f0-3a9c796af9c1",
   "metadata": {},
   "outputs": [],
   "source": [
    "y = 10\n",
    "z = 20\n",
    "y + z"
   ]
  },
  {
   "cell_type": "code",
   "execution_count": null,
   "id": "aa45b4db-6b36-4fc6-a0d3-b590525b3237",
   "metadata": {},
   "outputs": [],
   "source": [
    "a"
   ]
  },
  {
   "cell_type": "code",
   "execution_count": null,
   "id": "12d46ab5-ecea-48c0-9fe4-3d336440d6d6",
   "metadata": {},
   "outputs": [],
   "source": [
    "a = 50\n",
    "a"
   ]
  },
  {
   "cell_type": "markdown",
   "id": "db036015-de95-4f45-b855-b16e2dc41735",
   "metadata": {},
   "source": [
    "## 関数などの詳細を確認する"
   ]
  },
  {
   "cell_type": "code",
   "execution_count": null,
   "id": "c01dc93e-bab5-4c47-b369-223bd057a5e5",
   "metadata": {},
   "outputs": [],
   "source": [
    "import os\n",
    "os.path.join?"
   ]
  },
  {
   "cell_type": "code",
   "execution_count": null,
   "id": "0af01030-acba-4256-9aa7-0aaaaffcca5a",
   "metadata": {},
   "outputs": [],
   "source": [
    "import os\n",
    "os.path.join??"
   ]
  },
  {
   "cell_type": "code",
   "execution_count": null,
   "id": "b214238c-17ab-4ed7-8e3a-0a0c487b71c4",
   "metadata": {},
   "outputs": [],
   "source": []
  }
 ],
 "metadata": {
  "kernelspec": {
   "display_name": "Python 3 (ipykernel)",
   "language": "python",
   "name": "python3"
  },
  "language_info": {
   "codemirror_mode": {
    "name": "ipython",
    "version": 3
   },
   "file_extension": ".py",
   "mimetype": "text/x-python",
   "name": "python",
   "nbconvert_exporter": "python",
   "pygments_lexer": "ipython3",
   "version": "3.11.5"
  }
 },
 "nbformat": 4,
 "nbformat_minor": 5
}
