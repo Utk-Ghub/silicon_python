{
 "cells": [
  {
   "cell_type": "markdown",
   "id": "c12aebca-1ee8-42d5-a44c-ee14a3844dfe",
   "metadata": {},
   "source": [
    "# 基本的なグラフを作成する"
   ]
  },
  {
   "cell_type": "code",
   "execution_count": null,
   "id": "3ef0ca91-8e2e-4ec6-bf7c-21320b9abfe2",
   "metadata": {},
   "outputs": [],
   "source": [
    "# コード/pyplotとnumpyをインポート\n",
    "import matplotlib.pyplot as plt\n",
    "import numpy as np\n",
    "\n",
    "# 13-4-1/グラフを描画して表示する\n",
    "plt.plot(range(1, 5))\n",
    "plt.show()"
   ]
  },
  {
   "cell_type": "code",
   "execution_count": null,
   "id": "8bc97c6f-87f8-4e32-a9c2-02324b332f95",
   "metadata": {},
   "outputs": [],
   "source": [
    "# 13-4-2/x軸とy軸を指定\n",
    "plt.plot([1, 2, 3, 4], [1, 4, 9, 16])\n",
    "plt.show()"
   ]
  },
  {
   "cell_type": "code",
   "execution_count": null,
   "id": "0204290c-0dfc-4aea-a85e-808cd31c8ab5",
   "metadata": {},
   "outputs": [],
   "source": [
    "# 13-4-3/丸い点でグラフを描画\n",
    "plt.plot([1, 2, 3, 4], [1, 4, 9, 16], 'o')\n",
    "plt.show()"
   ]
  },
  {
   "cell_type": "code",
   "execution_count": null,
   "id": "f5b743e1-8ff4-49b1-833e-2eb3639445bc",
   "metadata": {},
   "outputs": [],
   "source": [
    "# 13-4-4/x軸、y軸の範囲を指定\n",
    "plt.plot([1, 2, 3, 4], [1, 4, 9, 16], 'o')\n",
    "plt.axis([0, 6, 0, 10])\n",
    "plt.show()"
   ]
  },
  {
   "cell_type": "markdown",
   "id": "d5d57837-fa62-40d4-aa5a-191aee4c3c15",
   "metadata": {},
   "source": [
    "## 複数のグラフを１つの図に描画する"
   ]
  },
  {
   "cell_type": "code",
   "execution_count": null,
   "id": "ec3611fd-ab5b-48d4-9cb5-5eb332fa03ed",
   "metadata": {},
   "outputs": [],
   "source": [
    "# 13-4-5/３つのグラフを表示\n",
    "t = np.arange(0, 5, 0.2)\n",
    "plt.plot(t, t, 'r--')\n",
    "plt.plot(t, t**2, 'bs')\n",
    "plt.plot(t, t**3, 'g^')\n",
    "plt.show()"
   ]
  },
  {
   "cell_type": "code",
   "execution_count": null,
   "id": "fdbdea6e-cf54-40c8-84f7-7c3b5580f72d",
   "metadata": {},
   "outputs": [],
   "source": [
    "# 13-4-6/３つのグラフを表示\n",
    "t = np.arange(0, 5, 0.2)\n",
    "plt.plot(t, 'r--', label='y=x')\n",
    "plt.plot(t, t**2, 'bs', label='y=x**2')\n",
    "plt.plot(t, t**3, 'g^', label='y=x**3')\n",
    "plt.axis([0, 5, 0, 100])\n",
    "plt.legend()\n",
    "plt.show()"
   ]
  },
  {
   "cell_type": "markdown",
   "id": "0770117f-c1b0-4081-98e0-eca4b607d17f",
   "metadata": {},
   "source": [
    "# 散布図を作成する"
   ]
  },
  {
   "cell_type": "code",
   "execution_count": null,
   "id": "bc52e7d5-a057-45a0-b445-2e11ea184c9e",
   "metadata": {},
   "outputs": [],
   "source": [
    "# 13-4-7/散布図を作成\n",
    "x = np.random.rand(50)\n",
    "y = np.random.rand(50)\n",
    "plt.scatter(x, y)\n",
    "plt.show()"
   ]
  },
  {
   "cell_type": "code",
   "execution_count": null,
   "id": "4b02dc18-4749-4e72-94a5-d0de7d1f9c1d",
   "metadata": {},
   "outputs": [],
   "source": [
    "# 13-4-8/散布図の点のサイズ、色を設定\n",
    "x = np.random.rand(50)\n",
    "y = np.random.rand(50)\n",
    "sizes = np.random.rand(50) * 100\n",
    "colors = np.random.rand(50)\n",
    "plt.scatter(x, y, s=sizes, c=colors)\n",
    "plt.show()"
   ]
  },
  {
   "cell_type": "markdown",
   "id": "a4bb3bdf-8065-48fc-9d5f-8bc0fea81f7d",
   "metadata": {},
   "source": [
    "# 棒グラフを作成する"
   ]
  },
  {
   "cell_type": "code",
   "execution_count": null,
   "id": "97d76e69-cefb-4e95-8e1c-7b2f03a59183",
   "metadata": {},
   "outputs": [],
   "source": [
    "# 13-4-9/棒グラフを描画\n",
    "values = list(range(1, 7))\n",
    "x_pos = np.arange(len(values))\n",
    "\n",
    "plt.bar(x_pos, values)\n",
    "plt.show()"
   ]
  },
  {
   "cell_type": "code",
   "execution_count": null,
   "id": "4bba9eb6-194b-4f76-bcc5-185bd795ac30",
   "metadata": {},
   "outputs": [],
   "source": [
    "# 13-4-10/棒グラフのx軸の値を設定\n",
    "values = list(range(1, 7))\n",
    "x_pos = np.arange(len(values))\n",
    "objects = list('abcdef')\n",
    "\n",
    "plt.bar(x_pos, values)\n",
    "plt.xticks(x_pos, objects)\n",
    "plt.show()"
   ]
  },
  {
   "cell_type": "markdown",
   "id": "37d916c6-01e0-4017-9848-31f5efa8c54d",
   "metadata": {},
   "source": [
    "# 円グラフを作成する"
   ]
  },
  {
   "cell_type": "code",
   "execution_count": null,
   "id": "4d1b82a5-db10-49ac-a4a2-2b3e07fad182",
   "metadata": {},
   "outputs": [],
   "source": [
    "# 13-4-11/円グラフを作成\n",
    "rates = [10, 20, 30, 40]\n",
    "labels = ['Python', 'C++', 'Ruby', 'Java']\n",
    "colors = ['red', 'green', 'yellow', 'blue']\n",
    "\n",
    "plt.pie(rates, labels=labels, colors=colors)\n",
    "plt.axis('equal')\n",
    "plt.show()"
   ]
  },
  {
   "cell_type": "code",
   "execution_count": null,
   "id": "3b236387-efc5-4545-b18b-775014dbaf61",
   "metadata": {},
   "outputs": [],
   "source": [
    "# 13-4-12/円グラフの項目に割合（%）を表示\n",
    "rates = [10, 20, 30, 40]\n",
    "labels = ['Python', 'C++', 'Ruby', 'Java']\n",
    "colors = ['red', 'green', 'yellow', 'blue']\n",
    "\n",
    "plt.pie(rates, labels=labels, colors=colors, autopct='%1.1f%%')\n",
    "plt.axis('equal')\n",
    "plt.show()"
   ]
  },
  {
   "cell_type": "code",
   "execution_count": null,
   "id": "1dafc123-22bd-424c-8fb0-dfcc95a1ef78",
   "metadata": {},
   "outputs": [],
   "source": []
  }
 ],
 "metadata": {
  "kernelspec": {
   "display_name": "Python 3 (ipykernel)",
   "language": "python",
   "name": "python3"
  },
  "language_info": {
   "codemirror_mode": {
    "name": "ipython",
    "version": 3
   },
   "file_extension": ".py",
   "mimetype": "text/x-python",
   "name": "python",
   "nbconvert_exporter": "python",
   "pygments_lexer": "ipython3",
   "version": "3.11.5"
  }
 },
 "nbformat": 4,
 "nbformat_minor": 5
}
