{
 "cells": [
  {
   "cell_type": "markdown",
   "id": "afece6b7-2b4e-4fbc-8ea4-1ea4a2bfd454",
   "metadata": {},
   "source": [
    "# scikit-learnの基本的な使い方"
   ]
  },
  {
   "cell_type": "code",
   "execution_count": null,
   "id": "6a1e2f07-deeb-4957-ac9f-c88797d4e6cc",
   "metadata": {},
   "outputs": [],
   "source": [
    "# コード/各種ライブラリをインポート\n",
    "import sklearn.datasets\n",
    "import sklearn.linear_model\n",
    "import sklearn.model_selection\n",
    "import matplotlib.pyplot as plt\n",
    "import pandas as pd"
   ]
  },
  {
   "cell_type": "code",
   "execution_count": null,
   "id": "71e25885-11f0-4377-81ff-e89fc3f975fd",
   "metadata": {},
   "outputs": [],
   "source": [
    "# 13-5-1/diabetesのdataプロパティを表示\n",
    "diabetes = sklearn.datasets.load_diabetes()\n",
    "df = pd.DataFrame(diabetes.data, columns=diabetes.feature_names)\n",
    "df"
   ]
  },
  {
   "cell_type": "code",
   "execution_count": null,
   "id": "32e826ae-b7d5-47cc-99f9-d0b0b3c1b93f",
   "metadata": {},
   "outputs": [],
   "source": [
    "# 13-5-2/diabetesのtargetプロパティを表示\n",
    "diabetes.target"
   ]
  },
  {
   "cell_type": "code",
   "execution_count": null,
   "id": "5b109dd3-ab6c-4483-9e0f-d2e08fdfe06d",
   "metadata": {},
   "outputs": [],
   "source": [
    "# コード/変数Xとyにデータを格納\n",
    "X = diabetes.data\n",
    "y = diabetes.target\n",
    "\n",
    "# コード/データを訓練用とテスト用に分割\n",
    "X_train, X_test, y_train, y_test = sklearn.model_selection.train_test_split(X, y, test_size=0.2)\n",
    "\n",
    "# コード/線形回帰の機械学習を実行\n",
    "lr = sklearn.linear_model.LinearRegression()\n",
    "lr.fit(X_train, y_train)\n",
    "\n",
    "# 13-5-3/機械学習の結果を検証\n",
    "lr.score(X_test, y_test)"
   ]
  },
  {
   "cell_type": "code",
   "execution_count": null,
   "id": "abdb2f45-7646-499f-9bf5-4e12712d096a",
   "metadata": {},
   "outputs": [],
   "source": [
    "# 13-5-4/機械学習の結果を検証\n",
    "predicted = lr.predict(X)\n",
    "fig, ax = plt.subplots()\n",
    "ax.scatter(y, predicted, edgecolors=(0, 0, 0))\n",
    "ax.plot([y.min(), y.max()], [y.min(), y.max()], \"k--\", lw=4)\n",
    "ax.set_xlabel(\"Measured\")\n",
    "ax.set_ylabel(\"Predicted\")\n",
    "plt.show()"
   ]
  },
  {
   "cell_type": "code",
   "execution_count": null,
   "id": "6f084db8-54e7-4091-8080-98259f1b55bf",
   "metadata": {},
   "outputs": [],
   "source": []
  }
 ],
 "metadata": {
  "kernelspec": {
   "display_name": "Python 3 (ipykernel)",
   "language": "python",
   "name": "python3"
  },
  "language_info": {
   "codemirror_mode": {
    "name": "ipython",
    "version": 3
   },
   "file_extension": ".py",
   "mimetype": "text/x-python",
   "name": "python",
   "nbconvert_exporter": "python",
   "pygments_lexer": "ipython3",
   "version": "3.11.5"
  }
 },
 "nbformat": 4,
 "nbformat_minor": 5
}
