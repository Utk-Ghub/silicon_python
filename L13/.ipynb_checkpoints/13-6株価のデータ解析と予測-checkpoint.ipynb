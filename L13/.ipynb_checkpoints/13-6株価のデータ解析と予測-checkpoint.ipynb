{
 "cells": [
  {
   "cell_type": "markdown",
   "id": "8125e815-2bf4-4ca5-9333-6e241ac9f35f",
   "metadata": {},
   "source": [
    "# 株価を分析する"
   ]
  },
  {
   "cell_type": "code",
   "execution_count": null,
   "id": "5f029d0b-a38e-4dc7-8c21-6753cf384c2c",
   "metadata": {},
   "outputs": [],
   "source": [
    "# コード/ライブラリをインポート\n",
    "\n",
    "import datetime\n",
    "\n",
    "import matplotlib\n",
    "import matplotlib.pyplot as plt\n",
    "import numpy as np\n",
    "import pandas_datareader\n",
    "import sklearn\n",
    "import sklearn.linear_model\n",
    "import sklearn.model_selection\n",
    "import yfinance\n",
    "\n",
    "yfinance.pdr_override()"
   ]
  },
  {
   "cell_type": "markdown",
   "id": "b2927b46-9e43-4350-97ef-53ae95921bf5",
   "metadata": {},
   "source": [
    "## データウェアハウス"
   ]
  },
  {
   "cell_type": "code",
   "execution_count": null,
   "id": "822a0a91-953c-4f5d-8577-34eae2d133c5",
   "metadata": {},
   "outputs": [],
   "source": [
    "# 13-6-1/株価のデータを取得\n",
    "df_aapl = pandas_datareader.data.get_data_yahoo('AAPL', '2020-01-01')\n",
    "df_meta = pandas_datareader.data.get_data_yahoo('META', '2020-01-01')\n",
    "df_gold = pandas_datareader.data.get_data_yahoo('GLD', '2020-01-01')\n",
    "df_aapl.tail(3)"
   ]
  },
  {
   "cell_type": "markdown",
   "id": "3b3afdb0-d200-4747-a217-954b72e649c3",
   "metadata": {},
   "source": [
    "## データに対して統計学的な処理をする"
   ]
  },
  {
   "cell_type": "code",
   "execution_count": null,
   "id": "019417dc-6118-4565-a7ea-70895e35ee6b",
   "metadata": {},
   "outputs": [],
   "source": [
    "# 13-6-2/株価と単純移動平均をグラフ化\n",
    "df_aapl['SMA'] = df_aapl['Close'].rolling(window=14).mean()\n",
    "df_aapl['Close'].plot(figsize=(15,6), color='red')\n",
    "df_aapl['SMA'].plot(figsize=(15,6), color='green')\n",
    "plt.show()"
   ]
  },
  {
   "cell_type": "markdown",
   "id": "d7e1559a-2afb-4903-9976-68c041990c84",
   "metadata": {},
   "source": [
    "## データマイニング"
   ]
  },
  {
   "cell_type": "code",
   "execution_count": null,
   "id": "b172ea10-3118-4d63-b327-d291dbce302a",
   "metadata": {},
   "outputs": [],
   "source": [
    "# 13-6-3/Apple社とMeta社の株価を比較\n",
    "df_aapl['Close'].plot(figsize=(15,6), color='red')\n",
    "df_meta['Close'].plot(figsize=(15,6), color='blue')\n",
    "plt.show()"
   ]
  },
  {
   "cell_type": "code",
   "execution_count": null,
   "id": "2cbe6c86-3e77-4d7c-9c19-0548222dcfa5",
   "metadata": {},
   "outputs": [],
   "source": [
    "# 13-6-4/株価の変化率を求める\n",
    "df_aapl['changing'] = (((df_aapl['Close'] - df_aapl['Open'])) / (df_aapl['Open']) * 100)\n",
    "df_meta['changing'] = (((df_meta['Close'] - df_meta['Open'])) / (df_meta['Open']) * 100)\n",
    "df_gold['changing'] = (((df_gold['Close'] - df_gold['Open'])) / (df_gold['Open']) * 100)\n",
    "df_aapl.tail(2).round(2)"
   ]
  },
  {
   "cell_type": "code",
   "execution_count": null,
   "id": "04bcce8d-a815-4d49-b397-a4e32928f919",
   "metadata": {},
   "outputs": [],
   "source": [
    "# 13-6-5/３つの株価の変化率をグラフにする\n",
    "df_aapl['changing'].tail(100).plot(grid=True, figsize=(15,6), color='red')\n",
    "df_meta['changing'].tail(100).plot(grid=True, figsize=(15,6), color='blue')\n",
    "df_gold['changing'].tail(100).plot(grid=True, figsize=(15,6), color='orange')\n",
    "plt.show()"
   ]
  },
  {
   "cell_type": "markdown",
   "id": "94fd3660-cc49-4ea6-88b5-5bfe712aa92d",
   "metadata": {},
   "source": [
    "# 株価を予測する"
   ]
  },
  {
   "cell_type": "markdown",
   "id": "9b41312b-ccc3-4dd4-9f92-b4d5a802cbe6",
   "metadata": {},
   "source": [
    "## 機械学習のためのデータを用意する"
   ]
  },
  {
   "cell_type": "code",
   "execution_count": null,
   "id": "2f2180ab-456f-4c2f-afc3-1a89a43bb7d8",
   "metadata": {},
   "outputs": [],
   "source": [
    "# 13-6-6/終値を格納する\n",
    "df_aapl['label'] = df_aapl['Close'].shift(-30)\n",
    "df_aapl.tail(35)"
   ]
  },
  {
   "cell_type": "markdown",
   "id": "fba1a033-5143-4b60-a96a-cf310fd4c89b",
   "metadata": {},
   "source": [
    "## 線形回帰で株価を予測する"
   ]
  },
  {
   "cell_type": "code",
   "execution_count": null,
   "id": "d6e2dca1-6db4-47eb-ba67-fcfc9443fee2",
   "metadata": {},
   "outputs": [],
   "source": [
    "# 13-6-7/学習させるデータをXに格納\n",
    "X = np.array(df_aapl.drop(['label', 'SMA'], axis='columns'))\n",
    "X = sklearn.preprocessing.scale(X)\n",
    "X"
   ]
  },
  {
   "cell_type": "code",
   "execution_count": null,
   "id": "2038b27f-b76f-441d-84a5-db2dbafc187e",
   "metadata": {},
   "outputs": [],
   "source": [
    "# 13-6-8/正解のデータをyに格納\n",
    "y = np.array(df_aapl['label'])\n",
    "y"
   ]
  },
  {
   "cell_type": "code",
   "execution_count": null,
   "id": "562ba907-0da1-42ea-9e39-9c8dd20892af",
   "metadata": {},
   "outputs": [],
   "source": [
    "# コード/訓練用データとテスト用データに分割\n",
    "y = y[:-30]\n",
    "X = X[:-30]\n",
    "X_train, X_test, y_train, y_test = sklearn.model_selection.train_test_split(X, y, test_size=0.2)\n",
    "\n",
    "# 13-6-9/機械学習オブジェクトを作成して学習させる\n",
    "lr = sklearn.linear_model.LinearRegression()\n",
    "lr.fit(X_train, y_train)\n",
    "accuracy = lr.score(X_test, y_test)\n",
    "accuracy"
   ]
  },
  {
   "cell_type": "code",
   "execution_count": null,
   "id": "942c081f-7743-4e07-a77a-71c26802e542",
   "metadata": {},
   "outputs": [],
   "source": [
    "# 13-6-10/過去30日間から未来の30日間を予測\n",
    "predicted_data = lr.predict(X[-30:])\n",
    "predicted_data"
   ]
  },
  {
   "cell_type": "code",
   "execution_count": null,
   "id": "ef8989ac-fed7-4988-9bfc-d5a05f4df1f4",
   "metadata": {},
   "outputs": [],
   "source": [
    "# 13-6-11/未来の株価の予測をグラフにする\n",
    "df_aapl['Predict'] = np.nan\n",
    "\n",
    "last_date = df_aapl.iloc[-1].name\n",
    "one_day = 86400\n",
    "next_day = last_date.timestamp() + one_day\n",
    "\n",
    "for data in predicted_data:\n",
    "    next_date = datetime.datetime.fromtimestamp(next_day)\n",
    "    df_aapl.loc[next_date] = np.append([np.nan] * (len(df_aapl.columns)-1), data)\n",
    "    next_day += one_day\n",
    "\n",
    "df_aapl['Close'].plot(figsize=(15,6), color='green')\n",
    "df_aapl['Predict'].plot(figsize=(15,6), color='orange')\n",
    "plt.show()"
   ]
  },
  {
   "cell_type": "markdown",
   "id": "a195db1d-a960-4e4c-83b7-2589bfdb39e0",
   "metadata": {},
   "source": [
    "## Point/深層学習、人工知能"
   ]
  },
  {
   "cell_type": "code",
   "execution_count": null,
   "id": "040a29ca-8061-4c6b-86ec-9686037b0f0e",
   "metadata": {},
   "outputs": [],
   "source": [
    "# 13-6-12/株を買うべきか売るべきか判断する\n",
    "stock_after_a_month = df_aapl['Predict'][-1]\n",
    "stock_today = df_aapl['Close'][-31]\n",
    "if stock_after_a_month > stock_today:\n",
    "    print('Buy Now.')\n",
    "else:\n",
    "    print('Sell Now.')"
   ]
  },
  {
   "cell_type": "code",
   "execution_count": null,
   "id": "4b35f5ec-7c57-42b8-ad35-7b87a097efc4",
   "metadata": {},
   "outputs": [],
   "source": []
  }
 ],
 "metadata": {
  "kernelspec": {
   "display_name": "Python 3 (ipykernel)",
   "language": "python",
   "name": "python3"
  },
  "language_info": {
   "codemirror_mode": {
    "name": "ipython",
    "version": 3
   },
   "file_extension": ".py",
   "mimetype": "text/x-python",
   "name": "python",
   "nbconvert_exporter": "python",
   "pygments_lexer": "ipython3",
   "version": "3.11.5"
  }
 },
 "nbformat": 4,
 "nbformat_minor": 5
}
