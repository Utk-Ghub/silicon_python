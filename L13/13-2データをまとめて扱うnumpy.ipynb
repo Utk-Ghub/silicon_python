{
 "cells": [
  {
   "cell_type": "markdown",
   "id": "ad183692-c852-4917-8f77-2702b8980b04",
   "metadata": {},
   "source": [
    "# numpyで基本的な配列を扱う"
   ]
  },
  {
   "cell_type": "code",
   "execution_count": null,
   "id": "c10e59fe-cd0b-4308-ab3a-a2b90959e135",
   "metadata": {},
   "outputs": [],
   "source": [
    "# 13-2-1/numpyで配列を作る\n",
    "import numpy as np\n",
    "a = np.array([1, 2, 3])\n",
    "a"
   ]
  },
  {
   "cell_type": "code",
   "execution_count": null,
   "id": "b7850a76-0f31-4522-9026-48c44d3c64e2",
   "metadata": {},
   "outputs": [],
   "source": [
    "# 13-2-2/２次元配列を作る\n",
    "a = np.array([[1, 2, 3], [4, 5, 6]])\n",
    "a"
   ]
  },
  {
   "cell_type": "code",
   "execution_count": null,
   "id": "a210ff5e-7f85-4fbf-ba0a-a1da39b344e2",
   "metadata": {},
   "outputs": [],
   "source": [
    "# 13-2-3/配列のshapeプロパティ\n",
    "a.shape"
   ]
  },
  {
   "cell_type": "code",
   "execution_count": null,
   "id": "f2c156d5-b3ad-4e48-953c-bac7f58d622d",
   "metadata": {},
   "outputs": [],
   "source": [
    "# 13-2-4/ndimプロパティ\n",
    "a.ndim"
   ]
  },
  {
   "cell_type": "code",
   "execution_count": null,
   "id": "f1325660-439f-4eec-bb51-477089ce8dea",
   "metadata": {},
   "outputs": [],
   "source": [
    "# 13-2-5/dtypeプロパティ\n",
    "a.dtype"
   ]
  },
  {
   "cell_type": "code",
   "execution_count": null,
   "id": "5e164485-8fd2-414d-8e15-f250170b670b",
   "metadata": {},
   "outputs": [],
   "source": [
    "# 13-2-6/sizeプロパティ\n",
    "a.size"
   ]
  },
  {
   "cell_type": "markdown",
   "id": "dfcddde8-6885-4de2-9f7e-acff2d2ea9c5",
   "metadata": {},
   "source": [
    "## numpyの関数で配列を作る"
   ]
  },
  {
   "cell_type": "code",
   "execution_count": null,
   "id": "028aa132-30b0-4590-b399-18c5cd1dc522",
   "metadata": {},
   "outputs": [],
   "source": [
    "# 13-2-7/ arange関数\n",
    "np.arange(0, 30, 5)"
   ]
  },
  {
   "cell_type": "code",
   "execution_count": null,
   "id": "766e8f09-27e6-4c18-8b8c-470c546c6db4",
   "metadata": {},
   "outputs": [],
   "source": [
    "# 13-2-8/arange関数で浮動小数点数の配列を作る\n",
    "np.arange(0, 2, 0.3)"
   ]
  },
  {
   "cell_type": "code",
   "execution_count": null,
   "id": "b3b640f3-db44-482f-a126-c57ac22fdfad",
   "metadata": {},
   "outputs": [],
   "source": [
    "# 13-2-9/zeros関数で２次元配列を作る\n",
    "np.zeros((3, 4))"
   ]
  },
  {
   "cell_type": "code",
   "execution_count": null,
   "id": "c9685788-83c6-4c3f-b24c-414d176fde92",
   "metadata": {},
   "outputs": [],
   "source": [
    "# 13-2-10/zeros関数でデータ型を指定\n",
    "np.zeros((3, 4), dtype=np.int16)"
   ]
  },
  {
   "cell_type": "code",
   "execution_count": null,
   "id": "319b4a97-10fe-4501-ba98-f0ea6c5bafac",
   "metadata": {},
   "outputs": [],
   "source": [
    "# 13-2-11/ones関数で２次元配列を作る\n",
    "np.ones((3, 4), dtype=np.int16)"
   ]
  },
  {
   "cell_type": "code",
   "execution_count": null,
   "id": "b343c20f-d05a-4cfa-b208-ac6bdd45ca58",
   "metadata": {},
   "outputs": [],
   "source": [
    "# 13-2-12/linspace関数で２次元配列を作る\n",
    "np.linspace(0, 2, 9)"
   ]
  },
  {
   "cell_type": "markdown",
   "id": "0d7184ef-08ed-47be-b999-2655449bb845",
   "metadata": {},
   "source": [
    "## 配列を編集する"
   ]
  },
  {
   "cell_type": "code",
   "execution_count": null,
   "id": "925433a7-e3bf-48a7-ac4e-64d1f25a7d2f",
   "metadata": {},
   "outputs": [],
   "source": [
    "# 13-2-13/reshapeメソッドで２次元配列を作る\n",
    "a = np.arange(6).reshape(2, 3)\n",
    "a"
   ]
  },
  {
   "cell_type": "code",
   "execution_count": null,
   "id": "93c6f832-5f9d-4ef3-ae4e-73f9858829b7",
   "metadata": {},
   "outputs": [],
   "source": [
    "# 13-2-14/reshapeメソッドで２次元配列を作る\n",
    "a.T"
   ]
  },
  {
   "cell_type": "code",
   "execution_count": null,
   "id": "95813211-2ac1-44a1-8cf3-a5e55fa8aad9",
   "metadata": {},
   "outputs": [],
   "source": [
    "# 13-2-15/reshapeメソッドで３次元配列を作る\n",
    "a = np.arange(24).reshape(2, 3, 4)\n",
    "a"
   ]
  },
  {
   "cell_type": "markdown",
   "id": "d23091aa-8c94-48f2-96f3-df3010230c5f",
   "metadata": {},
   "source": [
    "## 配列を結合する"
   ]
  },
  {
   "cell_type": "code",
   "execution_count": null,
   "id": "f3e3ea76-2fd0-4003-a942-2a587a3f67b4",
   "metadata": {},
   "outputs": [],
   "source": [
    "# 13-2-16/３つの配列x, y, zを作る\n",
    "x = np.arange(0, 10, 2)\n",
    "y = np.arange(5)\n",
    "z = np.arange(0, 100, 20)\n",
    "print(x, y, z)"
   ]
  },
  {
   "cell_type": "code",
   "execution_count": null,
   "id": "c0952638-8d41-412f-90ff-5a89e071612f",
   "metadata": {},
   "outputs": [],
   "source": [
    "# 13-2-17/append関数で１つの配列にまとめる\n",
    "np.append(x, y)"
   ]
  },
  {
   "cell_type": "code",
   "execution_count": null,
   "id": "ba81377f-e29b-4f14-a7f1-99c529d47b2d",
   "metadata": {},
   "outputs": [],
   "source": [
    "# 13-2-18/vstack関数で配列を縦に積み上げる\n",
    "np.vstack([x, y, z])"
   ]
  },
  {
   "cell_type": "code",
   "execution_count": null,
   "id": "41470f2c-bd30-4fef-8f27-345154212193",
   "metadata": {},
   "outputs": [],
   "source": [
    "# 13-2-19/hstack関数で配列を横に連結する\n",
    "np.hstack([x, y, z])"
   ]
  },
  {
   "cell_type": "markdown",
   "id": "55f56973-74c3-44b1-b6b7-37ad4200291c",
   "metadata": {},
   "source": [
    "## 配列に演算を行う"
   ]
  },
  {
   "cell_type": "code",
   "execution_count": null,
   "id": "a744fd66-f2d1-4a25-9ca5-72dfe67f080d",
   "metadata": {},
   "outputs": [],
   "source": [
    "# 13-2-20/２つの配列a、bを作る\n",
    "a = np.arange(10, 51, 10)\n",
    "b = np.arange(1, 6)\n",
    "print(a, b)"
   ]
  },
  {
   "cell_type": "code",
   "execution_count": null,
   "id": "4cf0796e-b4ad-4cc2-b818-8a26ac0eb5f5",
   "metadata": {},
   "outputs": [],
   "source": [
    "# 13-2-21/配列同士の引き算\n",
    "a - b"
   ]
  },
  {
   "cell_type": "code",
   "execution_count": null,
   "id": "1853235e-a865-4630-8c79-a916ab4171e7",
   "metadata": {},
   "outputs": [],
   "source": [
    "# 配列を比較演算子で演算\n",
    "a < 30"
   ]
  },
  {
   "cell_type": "markdown",
   "id": "741b05b3-efbc-42ed-9890-977dabfb5dbb",
   "metadata": {},
   "source": [
    "## ランダムな数値を得る"
   ]
  },
  {
   "cell_type": "code",
   "execution_count": null,
   "id": "750a610f-a8ee-412c-8e1d-49cc36df9a4c",
   "metadata": {},
   "outputs": [],
   "source": [
    "# 13-2-23/ランダムな数値からなる２次元配列\n",
    "a = np.random.random((2, 3))\n",
    "a"
   ]
  },
  {
   "cell_type": "markdown",
   "id": "9cd22855-e820-4bb2-8fe0-ecd8dabc95d4",
   "metadata": {},
   "source": [
    "## 配列の要素の合計値、平均値などを得る"
   ]
  },
  {
   "cell_type": "code",
   "execution_count": null,
   "id": "917d82d5-f8c8-4122-9ead-0985798d0c05",
   "metadata": {},
   "outputs": [],
   "source": [
    "# 13-2-24/１から10までの数値の合計を求める\n",
    "a = np.arange(1, 11)\n",
    "a.sum()"
   ]
  },
  {
   "cell_type": "code",
   "execution_count": null,
   "id": "a2a0979d-605a-4afc-bbb2-12aa21a1a633",
   "metadata": {},
   "outputs": [],
   "source": [
    "# 13-2-25/配列の平均値を得る\n",
    "a.mean()"
   ]
  },
  {
   "cell_type": "code",
   "execution_count": null,
   "id": "ebc86497-7601-443d-9b02-595a913dd76f",
   "metadata": {},
   "outputs": [],
   "source": [
    "# 13-2-26/配列の最大値、最小値を得る\n",
    "print(a.max(), a.min())"
   ]
  },
  {
   "cell_type": "markdown",
   "id": "b1e46315-4f92-49f2-95af-17498d1e2144",
   "metadata": {},
   "source": [
    "## 行、列の合計値を得る"
   ]
  },
  {
   "cell_type": "code",
   "execution_count": null,
   "id": "332cf88f-19f2-4fce-b6bd-ecbcd683c66a",
   "metadata": {},
   "outputs": [],
   "source": [
    "# １から10までの数値の２次元配列を作る\n",
    "a = np.arange(1, 11).reshape(2, 5)\n",
    "a"
   ]
  },
  {
   "cell_type": "code",
   "execution_count": null,
   "id": "ce012f0f-f286-46c5-aabf-4335665e404f",
   "metadata": {},
   "outputs": [],
   "source": [
    "# ２次元配列の縦の列の合計を得る\n",
    "a.sum(axis=0)"
   ]
  },
  {
   "cell_type": "code",
   "execution_count": null,
   "id": "312f4fbc-b57e-46a6-83fb-6165113d6141",
   "metadata": {},
   "outputs": [],
   "source": [
    "# ２次元配列の横の行の合計を得る\n",
    "a.sum(axis=1)"
   ]
  },
  {
   "cell_type": "markdown",
   "id": "abc67f40-3777-4275-940b-1083d320d957",
   "metadata": {},
   "source": [
    "## 表示できる要素の上限を拡大する"
   ]
  },
  {
   "cell_type": "code",
   "execution_count": null,
   "id": "1fc04124-3b0f-4e4c-af68-37d325c3d40c",
   "metadata": {},
   "outputs": [],
   "source": [
    "# 13-2-30/要素数10,000の配列を作る\n",
    "a = np.arange(1000)\n",
    "a"
   ]
  },
  {
   "cell_type": "code",
   "execution_count": null,
   "id": "8762d447-5552-4c6c-b4b3-56efd2a0f307",
   "metadata": {},
   "outputs": [],
   "source": [
    "# 13-2-31/10,000個の要素を表示できるようにする\n",
    "np.set_printoptions(threshold=1000)\n",
    "a"
   ]
  },
  {
   "cell_type": "code",
   "execution_count": null,
   "id": "debabc74-7f2b-4e75-b51e-c7ab941e5bd2",
   "metadata": {},
   "outputs": [],
   "source": []
  }
 ],
 "metadata": {
  "kernelspec": {
   "display_name": "Python 3 (ipykernel)",
   "language": "python",
   "name": "python3"
  },
  "language_info": {
   "codemirror_mode": {
    "name": "ipython",
    "version": 3
   },
   "file_extension": ".py",
   "mimetype": "text/x-python",
   "name": "python",
   "nbconvert_exporter": "python",
   "pygments_lexer": "ipython3",
   "version": "3.11.5"
  }
 },
 "nbformat": 4,
 "nbformat_minor": 5
}
