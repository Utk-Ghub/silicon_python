{
 "cells": [
  {
   "cell_type": "markdown",
   "id": "c36e325a-c534-4718-b47e-a5886455a754",
   "metadata": {},
   "source": [
    "# データ解析に便利なデータ構造を提供するpandas"
   ]
  },
  {
   "cell_type": "markdown",
   "id": "081120d6-ae15-4974-b099-01d1b249ce61",
   "metadata": {},
   "source": [
    "## １次元の配列、Seriesオブジェクト"
   ]
  },
  {
   "cell_type": "code",
   "execution_count": null,
   "id": "f284060e-aeff-4913-9f84-763434fd8cd2",
   "metadata": {},
   "outputs": [],
   "source": [
    "# コード/pandasをインポートする\n",
    "import numpy as np\n",
    "import pandas as pd\n",
    "\n",
    "# 13-3-1/Seriesオブジェクトを生成する\n",
    "s = pd.Series([1, 2, 3])\n",
    "s"
   ]
  },
  {
   "cell_type": "code",
   "execution_count": null,
   "id": "c574e25e-de30-4ad6-a13e-132a82b809da",
   "metadata": {},
   "outputs": [],
   "source": [
    "# 13-3-2/Seriesオブジェクトの合計値を求める\n",
    "s.sum()"
   ]
  },
  {
   "cell_type": "markdown",
   "id": "5306afc1-b07c-40f2-8dce-e41177612e23",
   "metadata": {},
   "source": [
    "## ２次元の配列、DataFrame"
   ]
  },
  {
   "cell_type": "code",
   "execution_count": null,
   "id": "db182417-4155-4bf4-bda6-64260e0ab6ad",
   "metadata": {},
   "outputs": [],
   "source": [
    "# 13-3-3/Seriesオブジェクトの合計値を求める\n",
    "df = pd.DataFrame({'A': [1, 2], 'B': [3, 4]})\n",
    "df"
   ]
  },
  {
   "cell_type": "code",
   "execution_count": null,
   "id": "2c3f9676-967f-4c18-ac00-67bcbec6da9c",
   "metadata": {},
   "outputs": [],
   "source": [
    "# 13-3-4/ランダムな数値からなるDataFrame\n",
    "df = pd.DataFrame(np.random.randn(6, 4))\n",
    "df"
   ]
  },
  {
   "cell_type": "markdown",
   "id": "88a73a1e-c368-4547-9282-8aab38c5a68e",
   "metadata": {},
   "source": [
    "## 行・列に名前をつける"
   ]
  },
  {
   "cell_type": "code",
   "execution_count": null,
   "id": "b093c0b5-9970-4a0b-b5ce-0055783e6cb8",
   "metadata": {},
   "outputs": [],
   "source": [
    "# 13-3-5/DataFrameのindexに日付を指定\n",
    "df = pd.DataFrame(np.random.randn(6, 4), index=pd.date_range('20220101', periods=6))\n",
    "df"
   ]
  },
  {
   "cell_type": "code",
   "execution_count": null,
   "id": "7e74c995-1adf-4f68-8c4f-30a612011a7e",
   "metadata": {},
   "outputs": [],
   "source": [
    "# 13-3-6/DataFrameのcolumnsに列名を指定\n",
    "df = pd.DataFrame(np.random.randn(6, 4), index=pd.date_range('20220101', periods=6), columns=['A', 'B', 'C', 'D'])\n",
    "df"
   ]
  },
  {
   "cell_type": "code",
   "execution_count": null,
   "id": "aa7e6bbd-5151-4bdf-bdb4-275cf5369b85",
   "metadata": {},
   "outputs": [],
   "source": [
    "df.T"
   ]
  },
  {
   "cell_type": "markdown",
   "id": "5ec23e6b-bb22-4076-9423-450fbb4bb06e",
   "metadata": {},
   "source": [
    "# DataFrameの一部のみを表示する"
   ]
  },
  {
   "cell_type": "code",
   "execution_count": null,
   "id": "4c1e131f-f5d1-41d9-b470-7628696f2553",
   "metadata": {},
   "outputs": [],
   "source": [
    "# 13-3-7/DataFrameの先頭\n",
    "df.head(1)"
   ]
  },
  {
   "cell_type": "code",
   "execution_count": null,
   "id": "5a0ee276-84e4-45ab-95ca-8b5464912499",
   "metadata": {},
   "outputs": [],
   "source": [
    "# 13-3-8/DataFrameの末尾\n",
    "df.tail(3)"
   ]
  },
  {
   "cell_type": "code",
   "execution_count": null,
   "id": "7c20e882-7600-455e-a692-2e2255ec4d00",
   "metadata": {},
   "outputs": [],
   "source": [
    "# 13-3-9/index属性\n",
    "df.index"
   ]
  },
  {
   "cell_type": "code",
   "execution_count": null,
   "id": "ada45dea-6412-4073-a850-85300ccb7cc1",
   "metadata": {},
   "outputs": [],
   "source": [
    "# 13-3-10/columns属性\n",
    "df.columns"
   ]
  },
  {
   "cell_type": "code",
   "execution_count": null,
   "id": "746b2e78-6645-4843-a44a-cacce63cf22c",
   "metadata": {},
   "outputs": [],
   "source": [
    "# 13-3-11/values属性\n",
    "df.values"
   ]
  },
  {
   "cell_type": "code",
   "execution_count": null,
   "id": "fdaeab0f-70cb-4703-bc44-9f99e28a944f",
   "metadata": {},
   "outputs": [],
   "source": [
    "# 13-3-12/describeメソッド\n",
    "df.describe()"
   ]
  },
  {
   "cell_type": "markdown",
   "id": "4ab67b80-f7fe-485c-af9d-7c22c84aec3c",
   "metadata": {},
   "source": [
    "## DataFrame内のデータを並べ替える"
   ]
  },
  {
   "cell_type": "code",
   "execution_count": null,
   "id": "1c292936-15a4-4245-804c-d7048afccd53",
   "metadata": {},
   "outputs": [],
   "source": [
    "# 13-3-13/B列の値でソート\n",
    "df.sort_values(by='B')"
   ]
  },
  {
   "cell_type": "markdown",
   "id": "fd1cc0c9-6952-4487-a6eb-20b3ce0baf8d",
   "metadata": {},
   "source": [
    "## 列や行を指定してデータを取り出す"
   ]
  },
  {
   "cell_type": "code",
   "execution_count": null,
   "id": "05b90e61-4b4d-4f68-8789-6447f0265ce4",
   "metadata": {},
   "outputs": [],
   "source": [
    "# 13-3-14/行の範囲を指定\n",
    "df[0:3]"
   ]
  },
  {
   "cell_type": "code",
   "execution_count": null,
   "id": "33483388-81d0-4f12-a5ec-e7523864f204",
   "metadata": {},
   "outputs": [],
   "source": [
    "# 13-3-15/行の範囲を指定\n",
    "df['20220102':'20220104']"
   ]
  },
  {
   "cell_type": "code",
   "execution_count": null,
   "id": "669125b8-eb4f-4d39-b832-92c27a651fb6",
   "metadata": {},
   "outputs": [],
   "source": [
    "# 13-3-16/locプロパティでインデックスを指定\n",
    "df.loc['20220101']"
   ]
  },
  {
   "cell_type": "code",
   "execution_count": null,
   "id": "ecddf7cd-1f8e-4bb0-89ef-a7c7b1d4ad12",
   "metadata": {},
   "outputs": [],
   "source": [
    "# 13-3-17/locプロパティでインデックスと列を指定\n",
    "df.loc['20220102', ['A', 'B']]"
   ]
  },
  {
   "cell_type": "code",
   "execution_count": null,
   "id": "6ea6e002-c157-464a-b0b7-882804d30b1a",
   "metadata": {},
   "outputs": [],
   "source": [
    "# 13-3-18/locプロパティでインデックスの範囲を指定\n",
    "df.loc['20220102':'20220104', ['A', 'B']]"
   ]
  },
  {
   "cell_type": "code",
   "execution_count": null,
   "id": "5cfb626b-e0bb-4a18-ad0c-8e15cae04829",
   "metadata": {},
   "outputs": [],
   "source": [
    "# 13-3-19/locプロパティですべての行を指定\n",
    "df.loc[:, ['A', 'B']]"
   ]
  },
  {
   "cell_type": "code",
   "execution_count": null,
   "id": "9dff946f-9655-4cdd-9967-96a3ec221f39",
   "metadata": {},
   "outputs": [],
   "source": [
    "# 13-3-21/ilocプロパティで数値で要素を指定\n",
    "df.iloc[0:2, 0:2]"
   ]
  },
  {
   "cell_type": "markdown",
   "id": "5f6ccb26-28e9-4cc4-a980-4f97c1f42e99",
   "metadata": {},
   "source": [
    "## 条件にあてはまるデータだけを抽出する"
   ]
  },
  {
   "cell_type": "code",
   "execution_count": null,
   "id": "b5de1b2f-37de-4fa8-8782-847658b78fb8",
   "metadata": {},
   "outputs": [],
   "source": [
    "# 13-3-22/A列の値が0より大きい行を抽出\n",
    "df[df.A > 0]"
   ]
  },
  {
   "cell_type": "code",
   "execution_count": null,
   "id": "eb369c3a-2864-4cff-a44a-f575a4171dca",
   "metadata": {},
   "outputs": [],
   "source": [
    "# 13-3-23/0より大きい値を抽出\n",
    "df[df > 0]"
   ]
  },
  {
   "cell_type": "markdown",
   "id": "7199bad5-e0bc-49c9-818e-314612e852f3",
   "metadata": {},
   "source": [
    "# データの追加・結合"
   ]
  },
  {
   "cell_type": "markdown",
   "id": "97b87d96-324d-47ab-8464-b9d16f0103e1",
   "metadata": {},
   "source": [
    "## 新しいデータを追加する"
   ]
  },
  {
   "cell_type": "code",
   "execution_count": null,
   "id": "1b833df5-e9da-4718-9db4-42ec6569f883",
   "metadata": {},
   "outputs": [],
   "source": [
    "# 13-3-24/データを追加\n",
    "df2 = df.copy()\n",
    "df2['E'] = ['one', 'one', 'two', 'three', 'four', 'three']\n",
    "df2"
   ]
  },
  {
   "cell_type": "code",
   "execution_count": null,
   "id": "c589184d-7807-4c11-81c1-67a050c56816",
   "metadata": {},
   "outputs": [],
   "source": [
    "# 13-3-25/E列の値で行を抽出\n",
    "df2[df2['E'].isin(['one', 'four'])]"
   ]
  },
  {
   "cell_type": "code",
   "execution_count": null,
   "id": "76cbc2b3-d72a-464d-a3e8-c15a66b4e866",
   "metadata": {},
   "outputs": [],
   "source": [
    "# 13-3-26/行をずらす\n",
    "df2.shift(1)"
   ]
  },
  {
   "cell_type": "markdown",
   "id": "56248302-5b9e-4315-88bf-1f78ac814b84",
   "metadata": {},
   "source": [
    "## DataFrameを結合する"
   ]
  },
  {
   "cell_type": "code",
   "execution_count": null,
   "id": "837d4b03-1740-4192-84ab-c7be56dfd7bd",
   "metadata": {},
   "outputs": [],
   "source": [
    "# 13-3-27/DataFrameを抽出\n",
    "df = pd.DataFrame(np.random.randn(2, 2))\n",
    "df"
   ]
  },
  {
   "cell_type": "code",
   "execution_count": null,
   "id": "76bbfc71-e75b-41c6-8bc2-b47ba832113a",
   "metadata": {},
   "outputs": [],
   "source": [
    "# 13-3-28/concat関数で変数df２つを結合\n",
    "pd.concat([df, df])"
   ]
  },
  {
   "cell_type": "code",
   "execution_count": null,
   "id": "f1b8d3c2-41c6-4691-af33-6272603f83f9",
   "metadata": {},
   "outputs": [],
   "source": [
    "# 13-3-29/4行×2列のDataFrameを生成\n",
    "df = pd.DataFrame({'A': ['foo', 'bar', 'foo', 'bar'], 'B': np.random.randn(4)})\n",
    "df"
   ]
  },
  {
   "cell_type": "code",
   "execution_count": null,
   "id": "03a4ea07-9bbb-4535-8c30-9e936d51f861",
   "metadata": {},
   "outputs": [],
   "source": [
    "# 13-3-30/groupbyメソッドでグループ化\n",
    "df.groupby('A').sum()"
   ]
  },
  {
   "cell_type": "code",
   "execution_count": null,
   "id": "47884c67-b5bb-4d6c-b714-d73081b886de",
   "metadata": {},
   "outputs": [],
   "source": []
  }
 ],
 "metadata": {
  "kernelspec": {
   "display_name": "Python 3 (ipykernel)",
   "language": "python",
   "name": "python3"
  },
  "language_info": {
   "codemirror_mode": {
    "name": "ipython",
    "version": 3
   },
   "file_extension": ".py",
   "mimetype": "text/x-python",
   "name": "python",
   "nbconvert_exporter": "python",
   "pygments_lexer": "ipython3",
   "version": "3.11.5"
  }
 },
 "nbformat": 4,
 "nbformat_minor": 5
}
